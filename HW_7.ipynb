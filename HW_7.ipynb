{
 "cells": [
  {
   "cell_type": "markdown",
   "id": "8989239d",
   "metadata": {},
   "source": [
    "### Урок 7. Непараметрические тесты\n",
    "1-4 задачи решать с помощью функций, 5ю вручную\n",
    "Выберете тест и проверьте, есть ли различия между выборками:"
   ]
  },
  {
   "cell_type": "code",
   "execution_count": 3,
   "id": "bd962aec",
   "metadata": {},
   "outputs": [],
   "source": [
    "import numpy as np\n",
    "import scipy.stats as stats"
   ]
  },
  {
   "cell_type": "markdown",
   "id": "35d0d7c4",
   "metadata": {},
   "source": [
    "#### Задача 1.\n",
    "Даны две независимые выборки. Не соблюдается условие нормальности\n",
    "\n",
    "x1 380,420, 290\n",
    "\n",
    "y1 140,360,200,900\n",
    "\n",
    "Сделайте вывод по результатам, полученным с помощью функции"
   ]
  },
  {
   "cell_type": "code",
   "execution_count": 2,
   "id": "10f2460e",
   "metadata": {},
   "outputs": [],
   "source": [
    "x1 = [380,420, 290]\n",
    "y1 = [140,360,200,900]"
   ]
  },
  {
   "cell_type": "code",
   "execution_count": 5,
   "id": "305fabef",
   "metadata": {},
   "outputs": [
    {
     "data": {
      "text/plain": [
       "MannwhitneyuResult(statistic=8.0, pvalue=0.6285714285714286)"
      ]
     },
     "execution_count": 5,
     "metadata": {},
     "output_type": "execute_result"
    }
   ],
   "source": [
    "stats.mannwhitneyu(x1,y1)"
   ]
  },
  {
   "cell_type": "markdown",
   "id": "25078e64",
   "metadata": {},
   "source": [
    "Из полученных данных можем сделать вывод, что различия в выборках не являются статистически значимыми, и мы принимаем нулевую гипотезу."
   ]
  },
  {
   "cell_type": "markdown",
   "id": "53c5f5a7",
   "metadata": {},
   "source": [
    "#### Задача 2. \n",
    "Исследовалось влияние препарата на уровень давления пациентов. \n",
    "\n",
    "Сначала измерялось давление до приема препарата, потом через 10 минут и через 30 минут.\n",
    "\n",
    "Есть ли статистически значимые различия?\n",
    "\n",
    "1е измерение до приема препарата: 150, 160, 165, 145, 155\n",
    "\n",
    "2е измерение через 10 минут: 140, 155, 150, 130, 135\n",
    "\n",
    "3е измерение через 30 минут: 130, 130, 120, 130, 125\n"
   ]
  },
  {
   "cell_type": "code",
   "execution_count": 7,
   "id": "236bc986",
   "metadata": {},
   "outputs": [],
   "source": [
    "dimen_start = [150, 160, 165, 145, 155]\n",
    "dimen_10 = [140, 155, 150, 130, 135]\n",
    "dimen_30 = [130, 130, 120, 130, 125]"
   ]
  },
  {
   "cell_type": "code",
   "execution_count": 8,
   "id": "d18168e7",
   "metadata": {},
   "outputs": [
    {
     "data": {
      "text/plain": [
       "KruskalResult(statistic=10.213868613138692, pvalue=0.006054616097364561)"
      ]
     },
     "execution_count": 8,
     "metadata": {},
     "output_type": "execute_result"
    }
   ],
   "source": [
    "stats.kruskal(dimen_start, dimen_10, dimen_30)"
   ]
  },
  {
   "cell_type": "markdown",
   "id": "f39d402c",
   "metadata": {},
   "source": [
    "Вывод: имеются статистически значимые различия, значит принимаем альтернативную гипотезу, согласно которой, препарат влияет на уровень давления у пациентов"
   ]
  },
  {
   "cell_type": "markdown",
   "id": "7fd77ed5",
   "metadata": {},
   "source": [
    "#### Задача 3.\n",
    "\n",
    "Сравните 1 и 2 е измерения, предполагая, что 3го измерения через 30 минут не было."
   ]
  },
  {
   "cell_type": "code",
   "execution_count": 9,
   "id": "6b9ea73a",
   "metadata": {},
   "outputs": [
    {
     "data": {
      "text/plain": [
       "WilcoxonResult(statistic=0.0, pvalue=0.0625)"
      ]
     },
     "execution_count": 9,
     "metadata": {},
     "output_type": "execute_result"
    }
   ],
   "source": [
    "stats.wilcoxon(dimen_start, dimen_10)"
   ]
  },
  {
   "cell_type": "markdown",
   "id": "0768f4cb",
   "metadata": {},
   "source": [
    "Для статистической значимости $\\alpha$ = 0.05 есть статистически значимые различия (принимаем альтернативную гипотезу), но если возьмем $\\alpha$ =0.1, то различий наблюдатьт не будем и примем нулевую гипотезу."
   ]
  },
  {
   "cell_type": "markdown",
   "id": "2b0c9bf0",
   "metadata": {},
   "source": [
    "#### Задача 4.\n",
    "\n",
    "Даны 3 группы учеников плавания.\n",
    "\n",
    "В 1 группе время на дистанцию 50 м составляют:\n",
    "\n",
    "56, 60, 62, 55, 71, 67, 59, 58, 64, 67\n",
    "\n",
    "Вторая группа : 57, 58, 69, 48, 72, 70, 68, 71, 50, 53\n",
    "\n",
    "Третья группа: 57, 67, 49, 48, 47, 55, 66, 51, 54"
   ]
  },
  {
   "cell_type": "code",
   "execution_count": 10,
   "id": "5d6cd7fb",
   "metadata": {},
   "outputs": [],
   "source": [
    "gr1 = np.array([56, 60, 62, 55, 71, 67, 59, 58, 64, 67])\n",
    "gr2 = np.array([57, 58, 69, 48, 72, 70, 68, 71, 50, 53])\n",
    "gr3 = np.array([57, 67, 49, 48, 47, 55, 66, 51, 54])"
   ]
  },
  {
   "cell_type": "code",
   "execution_count": 11,
   "id": "e94f980a",
   "metadata": {},
   "outputs": [
    {
     "data": {
      "text/plain": [
       "KruskalResult(statistic=5.465564058257224, pvalue=0.0650380998590494)"
      ]
     },
     "execution_count": 11,
     "metadata": {},
     "output_type": "execute_result"
    }
   ],
   "source": [
    "stats.kruskal(gr1, gr2, gr3)"
   ]
  },
  {
   "cell_type": "markdown",
   "id": "324a4d90",
   "metadata": {},
   "source": [
    "Статистически значимых различий не обнаружено, верна нулевая гипотеза"
   ]
  },
  {
   "cell_type": "markdown",
   "id": "78b57d3b",
   "metadata": {},
   "source": [
    "#### Задача 5.\n",
    "\n",
    "Заявляется, что партия изготавливается со средним арифметическим 2,5 см. \n",
    "\n",
    "Проверить данную гипотезу, если известно, что размеры изделий подчинены нормальному закону распределения. \n",
    "\n",
    "Объем выборки 10, уровень статистической значимости 5%\n",
    "\n",
    "2.51, 2.35, 2.74, 2.56, 2.40, 2.36, 2.65, 2.7, 2.67, 2.34"
   ]
  },
  {
   "cell_type": "markdown",
   "id": "8f1dae09",
   "metadata": {},
   "source": [
    "$\\alpha$ = 0.05\n",
    "\n",
    "n = 10\n",
    "\n",
    "$\\mu$ = 2.5 cм"
   ]
  },
  {
   "cell_type": "markdown",
   "id": "e4e1172a",
   "metadata": {},
   "source": [
    "$$t_н = \\frac{X_{ср}-\\mu}{\\sigma_н/\\sqrt{n}}$$"
   ]
  },
  {
   "cell_type": "code",
   "execution_count": 14,
   "id": "38d93887",
   "metadata": {},
   "outputs": [
    {
     "data": {
      "text/plain": [
       "2.5279999999999996"
      ]
     },
     "execution_count": 14,
     "metadata": {},
     "output_type": "execute_result"
    }
   ],
   "source": [
    "x = np.array([2.51, 2.35, 2.74, 2.56, 2.40, 2.36, 2.65, 2.7, 2.67, 2.34])\n",
    "mean = np.mean(x)\n",
    "mean"
   ]
  },
  {
   "cell_type": "code",
   "execution_count": 15,
   "id": "9c5745a5",
   "metadata": {},
   "outputs": [
    {
     "data": {
      "text/plain": [
       "0.1572542173961923"
      ]
     },
     "execution_count": 15,
     "metadata": {},
     "output_type": "execute_result"
    }
   ],
   "source": [
    "sigma = np.std(x,ddof=1)\n",
    "sigma"
   ]
  },
  {
   "cell_type": "code",
   "execution_count": 16,
   "id": "b26dd09e",
   "metadata": {},
   "outputs": [
    {
     "data": {
      "text/plain": [
       "0.5630613661802959"
      ]
     },
     "execution_count": 16,
     "metadata": {},
     "output_type": "execute_result"
    }
   ],
   "source": [
    "t_x = (mean - 2.5)/(sigma/np.sqrt(10))\n",
    "t_x"
   ]
  },
  {
   "cell_type": "markdown",
   "id": "4a873240",
   "metadata": {},
   "source": [
    "табличное t = 2.262, рассчётное t = 0.56. Соответственно, принимаем нулевую гипотезу."
   ]
  },
  {
   "cell_type": "code",
   "execution_count": null,
   "id": "e9661e5c",
   "metadata": {},
   "outputs": [],
   "source": []
  }
 ],
 "metadata": {
  "kernelspec": {
   "display_name": "Python 3 (ipykernel)",
   "language": "python",
   "name": "python3"
  },
  "language_info": {
   "codemirror_mode": {
    "name": "ipython",
    "version": 3
   },
   "file_extension": ".py",
   "mimetype": "text/x-python",
   "name": "python",
   "nbconvert_exporter": "python",
   "pygments_lexer": "ipython3",
   "version": "3.9.12"
  }
 },
 "nbformat": 4,
 "nbformat_minor": 5
}

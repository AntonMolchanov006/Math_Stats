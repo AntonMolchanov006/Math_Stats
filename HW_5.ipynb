{
 "cells": [
  {
   "cell_type": "markdown",
   "id": "fb3aa426",
   "metadata": {},
   "source": [
    "###  Homework 5/"
   ]
  },
  {
   "cell_type": "markdown",
   "id": "44a458be",
   "metadata": {},
   "source": [
    "#### Задача 1.\n",
    "\n",
    "Когда используется критерий Стьюдента, а когда Z –критерий?"
   ]
  },
  {
   "cell_type": "markdown",
   "id": "03a19963",
   "metadata": {},
   "source": [
    "Z-критерий используется при соблюдениии нормальности выборки, известна $\\sigma$ генеральной совокупности.\n",
    "\n",
    "t-критерий, или критерий Стьюдента, используется в случае, если $\\sigma$ генеральной совокупности неизвестна, соблюдены нормальность выборки и равенство дисперсий в сравниваемых группах."
   ]
  },
  {
   "cell_type": "markdown",
   "id": "1aeffe68",
   "metadata": {},
   "source": [
    "#### Задача 2\n",
    "\n",
    "Проведите тест гипотезы. Утверждается, что шарики для подшипников, изготовленные автоматическим станком, имеют средний диаметр 17 мм. Используя односторонний критерий с α=0,05, проверить эту гипотезу, если в выборке из n=100 шариков средний диаметр оказался равным 17.5 мм, а дисперсия известна и равна 4 кв. мм."
   ]
  },
  {
   "cell_type": "markdown",
   "id": "11138fd5",
   "metadata": {},
   "source": [
    "$\\sigma$ = 2 кв.мм.\n",
    "\n",
    "$\\alpha$ = 0.05\n",
    "\n",
    "n = 100\n",
    "\n",
    "$X_{ср}$ = 17.5 мм\n",
    "\n",
    "$\\mu$ = 17 мм"
   ]
  },
  {
   "cell_type": "markdown",
   "id": "6e2d6740",
   "metadata": {},
   "source": [
    "$$Z_н = \\frac{X_{ср}-\\mu}{\\sigma/\\sqrt{n}}$$"
   ]
  },
  {
   "cell_type": "code",
   "execution_count": 25,
   "id": "6886896d",
   "metadata": {},
   "outputs": [
    {
     "data": {
      "text/plain": [
       "2.5"
      ]
     },
     "execution_count": 25,
     "metadata": {},
     "output_type": "execute_result"
    }
   ],
   "source": [
    "z = (17.5-17)/(2/10)\n",
    "z"
   ]
  },
  {
   "cell_type": "markdown",
   "id": "a8e3021e",
   "metadata": {},
   "source": [
    "Так как расчетный z получился больше табличного (1.645), то отвергаем нулевую гипотезу и принимаем альтернативную."
   ]
  },
  {
   "cell_type": "markdown",
   "id": "7a3947bc",
   "metadata": {},
   "source": [
    "#### Задача 3\n",
    "\n",
    "Проведите тест гипотезы. \n",
    "\n",
    "Продавец утверждает, что средний вес пачки печенья составляет 200 г.\n",
    "\n",
    "Из партии извлечена выборка из 10 пачек. Вес каждой пачки составляет:\n",
    "202, 203, 199, 197, 195, 201, 200, 204, 194, 190.\n",
    "\n",
    "Известно, что их веса распределены нормально.\n",
    "\n",
    "Верно ли утверждение продавца, если учитывать, что доверительная вероятность равна 99%? (Провести двусторонний тест.)"
   ]
  },
  {
   "cell_type": "markdown",
   "id": "cd6dc551",
   "metadata": {},
   "source": [
    "$\\sigma_н$ = 4.225 гр\n",
    "\n",
    "$\\alpha$ = 0.01\n",
    "\n",
    "n = 10\n",
    "\n",
    "$X_{ср}$ = 198.5 гр\n",
    "\n",
    "$\\mu$ = 200 гр"
   ]
  },
  {
   "cell_type": "markdown",
   "id": "36d08ba6",
   "metadata": {},
   "source": [
    "$$t_н = \\frac{X_{ср}-\\mu}{\\sigma_н/\\sqrt{n}}$$"
   ]
  },
  {
   "cell_type": "code",
   "execution_count": 26,
   "id": "71f5ff9a",
   "metadata": {},
   "outputs": [
    {
     "data": {
      "text/plain": [
       "4.453463071962462"
      ]
     },
     "execution_count": 26,
     "metadata": {},
     "output_type": "execute_result"
    }
   ],
   "source": [
    "import numpy as np\n",
    "cookie = [202, 203, 199, 197, 195, 201, 200, 204, 194, 190]\n",
    "sigma = np.std(cookie,ddof=1)\n",
    "sigma\n"
   ]
  },
  {
   "cell_type": "code",
   "execution_count": 27,
   "id": "c0ded031",
   "metadata": {},
   "outputs": [
    {
     "data": {
      "text/plain": [
       "198.5"
      ]
     },
     "execution_count": 27,
     "metadata": {},
     "output_type": "execute_result"
    }
   ],
   "source": [
    "avg = np.mean(cookie)\n",
    "avg"
   ]
  },
  {
   "cell_type": "code",
   "execution_count": 28,
   "id": "3682b60d",
   "metadata": {},
   "outputs": [
    {
     "data": {
      "text/plain": [
       "-1.0651074037450896"
      ]
     },
     "execution_count": 28,
     "metadata": {},
     "output_type": "execute_result"
    }
   ],
   "source": [
    "t_n = (avg-200)/(sigma/np.sqrt(len(cookie)))\n",
    "t_n"
   ]
  },
  {
   "cell_type": "markdown",
   "id": "5eb593d8",
   "metadata": {},
   "source": [
    "Значение для t-критерия по таблице равен 3.25, а рассчетный равен -1.065. Таким образом принимаем нулевую гипотезу."
   ]
  },
  {
   "cell_type": "markdown",
   "id": "2c1ca444",
   "metadata": {},
   "source": [
    "#### Задача 4.\n",
    "\n",
    "Задачу 4 решать с помощью функции. \n",
    "\n",
    "Есть ли статистически значимые различия в росте дочерей?\n",
    "\n",
    "Рост матерей 172, 177, 158, 170, 178,175, 164, 160, 169, 165\n",
    "\n",
    "Рост взрослых дочерей: 173, 175, 162, 174, 175, 168, 155, 170, 160"
   ]
  },
  {
   "cell_type": "code",
   "execution_count": 29,
   "id": "81c4ee6a",
   "metadata": {},
   "outputs": [
    {
     "data": {
      "text/plain": [
       "Ttest_relResult(statistic=0.559522990335608, pvalue=0.5911212354055175)"
      ]
     },
     "execution_count": 29,
     "metadata": {},
     "output_type": "execute_result"
    }
   ],
   "source": [
    "mothers = [172, 177, 158, 170, 178,175, 164, 160, 169]\n",
    "daughter = [173, 175, 162, 174, 175, 168, 155, 170, 160]\n",
    "stats.ttest_rel(mothers,daughter)"
   ]
  },
  {
   "cell_type": "markdown",
   "id": "04f8a70c",
   "metadata": {},
   "source": [
    "Для статистической значимости $\\alpha$ = 0.05 статистически значимых различий нет."
   ]
  },
  {
   "cell_type": "code",
   "execution_count": null,
   "id": "d2662c84",
   "metadata": {},
   "outputs": [],
   "source": []
  },
  {
   "cell_type": "code",
   "execution_count": null,
   "id": "d320c062",
   "metadata": {},
   "outputs": [],
   "source": []
  },
  {
   "cell_type": "code",
   "execution_count": null,
   "id": "e2abb3ef",
   "metadata": {},
   "outputs": [],
   "source": []
  }
 ],
 "metadata": {},
 "nbformat": 4,
 "nbformat_minor": 5
}

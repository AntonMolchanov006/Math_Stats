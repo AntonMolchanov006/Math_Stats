{
 "cells": [
  {
   "cell_type": "markdown",
   "id": "b1a8d9e3",
   "metadata": {},
   "source": [
    "### Урок 8. Корреляционный анализ"
   ]
  },
  {
   "cell_type": "code",
   "execution_count": 17,
   "id": "b1af0d9c",
   "metadata": {},
   "outputs": [],
   "source": [
    "import numpy as np\n",
    "import pandas as pd\n",
    "import scipy.stats as stats"
   ]
  },
  {
   "cell_type": "markdown",
   "id": "3321b268",
   "metadata": {},
   "source": [
    "#### Задача 1.\n",
    "\n",
    "Даны значения величины заработной платы заемщиков банка (zp) и значения их поведенческого кредитного скоринга (ks):\n",
    "\n",
    "zp = [35, 45, 190, 200, 40, 70, 54, 150, 120, 110],\n",
    "\n",
    "ks = [401, 574, 874, 919, 459, 739, 653, 902, 746, 832].\n",
    "\n",
    "Найдите ковариацию этих двух величин с помощью элементарных действий, а затем с помощью функции cov из numpy\n",
    "Полученные значения должны быть равны.\n",
    "Найдите коэффициент корреляции Пирсона с помощью ковариации и среднеквадратичных отклонений двух признаков,\n",
    "а затем с использованием функций из библиотек numpy и pandas."
   ]
  },
  {
   "cell_type": "code",
   "execution_count": 2,
   "id": "8146d021",
   "metadata": {},
   "outputs": [],
   "source": [
    "zp = np.array([35, 45, 190, 200, 40, 70, 54, 150, 120, 110])\n",
    "ks = np.array([401, 574, 874, 919, 459, 739, 653, 902, 746, 832])"
   ]
  },
  {
   "cell_type": "markdown",
   "id": "6ce408bf",
   "metadata": {},
   "source": [
    "$$cov_{xy} = M(XY) - M(X) * M(Y)$$,\n",
    "где М - математическое ожидание"
   ]
  },
  {
   "cell_type": "code",
   "execution_count": 4,
   "id": "1618ede1",
   "metadata": {},
   "outputs": [
    {
     "data": {
      "text/plain": [
       "9157.839999999997"
      ]
     },
     "execution_count": 4,
     "metadata": {},
     "output_type": "execute_result"
    }
   ],
   "source": [
    "cov_coef = np.mean(zp*ks) - np.mean(zp)*np.mean(ks)\n",
    "cov_coef"
   ]
  },
  {
   "cell_type": "code",
   "execution_count": 9,
   "id": "ac953639",
   "metadata": {},
   "outputs": [
    {
     "data": {
      "text/plain": [
       "array([[ 3494.64,  9157.84],\n",
       "       [ 9157.84, 30468.89]])"
      ]
     },
     "execution_count": 9,
     "metadata": {},
     "output_type": "execute_result"
    }
   ],
   "source": [
    "np.cov(zp,ks, ddof=0)"
   ]
  },
  {
   "cell_type": "code",
   "execution_count": 10,
   "id": "00a652b4",
   "metadata": {},
   "outputs": [
    {
     "data": {
      "text/plain": [
       "0.8874900920739158"
      ]
     },
     "execution_count": 10,
     "metadata": {},
     "output_type": "execute_result"
    }
   ],
   "source": [
    "r = cov_coef/(np.std(zp)*np.std(ks))\n",
    "r"
   ]
  },
  {
   "cell_type": "code",
   "execution_count": 7,
   "id": "ce42e636",
   "metadata": {},
   "outputs": [
    {
     "data": {
      "text/plain": [
       "array([[1.        , 0.88749009],\n",
       "       [0.88749009, 1.        ]])"
      ]
     },
     "execution_count": 7,
     "metadata": {},
     "output_type": "execute_result"
    }
   ],
   "source": [
    "np.corrcoef(zp,ks)"
   ]
  },
  {
   "cell_type": "markdown",
   "id": "a473f153",
   "metadata": {},
   "source": [
    "#### Задача 2.\n",
    "\n",
    "Измерены значения IQ выборки студентов,\n",
    "обучающихся в местных технических вузах:\n",
    "\n",
    "131, 125, 115, 122, 131, 115, 107, 99, 125, 111.\n",
    "\n",
    "Известно, что в генеральной совокупности IQ распределен нормально.\n",
    "\n",
    "Найдите доверительный интервал для математического ожидания с надежностью 0.95."
   ]
  },
  {
   "cell_type": "code",
   "execution_count": 18,
   "id": "7f220d2c",
   "metadata": {},
   "outputs": [],
   "source": [
    "iq = np.array([131, 125, 115, 122, 131, 115, 107, 99, 125, 111])\n",
    "alfa = 0.05\n",
    "t = stats.t.ppf (0.975,9)"
   ]
  },
  {
   "cell_type": "markdown",
   "id": "375071b5",
   "metadata": {},
   "source": [
    "Так как нам неизвестно среднее квадратичное отклонение генеральной совокупности, то доверительный интервал будем строить по критерию Стьюдента."
   ]
  },
  {
   "cell_type": "markdown",
   "id": "e8dcd1e9",
   "metadata": {},
   "source": [
    "$$X_{ср} +/- t_{\\frac{\\alpha}{2}}*\\frac{\\sigma}{\\sqrt{n}}$$"
   ]
  },
  {
   "cell_type": "code",
   "execution_count": 19,
   "id": "7ed42463",
   "metadata": {},
   "outputs": [
    {
     "data": {
      "text/plain": [
       "110.55608365158724"
      ]
     },
     "execution_count": 19,
     "metadata": {},
     "output_type": "execute_result"
    }
   ],
   "source": [
    "x_0 = np.mean(iq) - t*np.std(iq, ddof=1)/np.sqrt(len(iq))\n",
    "x_0"
   ]
  },
  {
   "cell_type": "code",
   "execution_count": 20,
   "id": "5f8f2962",
   "metadata": {},
   "outputs": [
    {
     "data": {
      "text/plain": [
       "125.64391634841274"
      ]
     },
     "execution_count": 20,
     "metadata": {},
     "output_type": "execute_result"
    }
   ],
   "source": [
    "x_1 = np.mean(iq) + t*np.std(iq, ddof=1)/np.sqrt(len(iq))\n",
    "x_1"
   ]
  },
  {
   "cell_type": "markdown",
   "id": "54de8da4",
   "metadata": {},
   "source": [
    "Доверительный интервал [110.56; 125.64]"
   ]
  },
  {
   "cell_type": "markdown",
   "id": "18a93011",
   "metadata": {},
   "source": [
    "#### Задача 3.\n",
    "\n",
    "Известно, что рост футболистов в сборной распределен нормально\n",
    "с дисперсией генеральной совокупности, равной 25 кв.см. Объем выборки равен 27,\n",
    "среднее выборочное составляет 174.2. Найдите доверительный интервал для математического\n",
    "ожидания с надежностью 0.95."
   ]
  },
  {
   "cell_type": "code",
   "execution_count": 21,
   "id": "09b787f1",
   "metadata": {},
   "outputs": [],
   "source": [
    "sigma = 5\n",
    "n = 27\n",
    "avg = 174.2\n",
    "alpha = 0.05"
   ]
  },
  {
   "cell_type": "markdown",
   "id": "13a50402",
   "metadata": {},
   "source": [
    "$$X_{ср} +/- z_{\\frac{\\alpha}{2}} * \\frac{\\sigma}{\\sqrt{n}}$$"
   ]
  },
  {
   "cell_type": "code",
   "execution_count": 22,
   "id": "6895b519",
   "metadata": {},
   "outputs": [
    {
     "data": {
      "text/plain": [
       "172.31398912064722"
      ]
     },
     "execution_count": 22,
     "metadata": {},
     "output_type": "execute_result"
    }
   ],
   "source": [
    "x_0 = avg - 1.96*sigma/np.sqrt(n)\n",
    "x_0"
   ]
  },
  {
   "cell_type": "code",
   "execution_count": 24,
   "id": "4733d3ce",
   "metadata": {},
   "outputs": [
    {
     "data": {
      "text/plain": [
       "176.08601087935276"
      ]
     },
     "execution_count": 24,
     "metadata": {},
     "output_type": "execute_result"
    }
   ],
   "source": [
    "x_1 = avg + 1.96*sigma/np.sqrt(n)\n",
    "x_1"
   ]
  },
  {
   "cell_type": "markdown",
   "id": "94dd7734",
   "metadata": {},
   "source": [
    "__Ответ:__ Доверительный интервал [172.31; 176.09]"
   ]
  },
  {
   "cell_type": "code",
   "execution_count": null,
   "id": "ca66d909",
   "metadata": {},
   "outputs": [],
   "source": []
  }
 ],
 "metadata": {
  "kernelspec": {
   "display_name": "Python 3 (ipykernel)",
   "language": "python",
   "name": "python3"
  },
  "language_info": {
   "codemirror_mode": {
    "name": "ipython",
    "version": 3
   },
   "file_extension": ".py",
   "mimetype": "text/x-python",
   "name": "python",
   "nbconvert_exporter": "python",
   "pygments_lexer": "ipython3",
   "version": "3.9.12"
  }
 },
 "nbformat": 4,
 "nbformat_minor": 5
}

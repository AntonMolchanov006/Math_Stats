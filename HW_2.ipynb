{
 "cells": [
  {
   "cell_type": "markdown",
   "id": "2d9eaae4",
   "metadata": {},
   "source": [
    "### Условие:\n",
    "\n",
    "Задача 1. Вероятность того, что стрелок попадет в мишень, выстрелив один раз, равна 0.8. Стрелок выстрелил 100 раз. Найдите вероятность того, что стрелок попадет в цель ровно 85 раз.\n",
    "\n",
    "Задача 2. Вероятность того, что лампочка перегорит в течение первого дня эксплуатации, равна 0.0004. В жилом комплексе после ремонта в один день включили 5000 новых лампочек. Какова вероятность, что ни одна из них не перегорит в первый день? Какова вероятность, что перегорят ровно две?\n",
    "\n",
    "Задача 3. Монету подбросили 144 раза. Какова вероятность, что орел выпадет ровно 70 раз?\n",
    "\n",
    "Задача 4. В первом ящике находится 10 мячей, из которых 7 - белые. Во втором ящике - 11 мячей, из которых 9 белых. Из каждого ящика вытаскивают случайным образом по два мяча. Какова вероятность того, что все мячи белые? Какова вероятность того, что ровно два мяча белые? Какова вероятность того, что хотя бы один мяч белый?"
   ]
  },
  {
   "cell_type": "markdown",
   "id": "b51ff1c6",
   "metadata": {},
   "source": [
    "#### Задача 1. \n",
    "Вероятность того, что стрелок попадет в мишень, выстрелив один раз, равна 0.8. Стрелок выстрелил 100 раз. Найдите вероятность того, что стрелок попадет в цель ровно 85 раз. \n",
    "\n",
    "Ответ: 4,8%"
   ]
  },
  {
   "cell_type": "markdown",
   "id": "7fcd956f",
   "metadata": {},
   "source": [
    "$$p(k)=C_n_k*p^k*q^(n-k)$$"
   ]
  },
  {
   "cell_type": "code",
   "execution_count": 1,
   "id": "b1eb2a6a",
   "metadata": {},
   "outputs": [
    {
     "data": {
      "text/plain": [
       "0.048061793700746556"
      ]
     },
     "execution_count": 1,
     "metadata": {},
     "output_type": "execute_result"
    }
   ],
   "source": [
    "import numpy as np\n",
    "p_100 = (np.math.factorial(100)/(np.math.factorial(85)*np.math.factorial(15)))*0.8**85*0.2**15\n",
    "p_100"
   ]
  },
  {
   "cell_type": "markdown",
   "id": "101b71a9",
   "metadata": {},
   "source": [
    "#### Задача 2. \n",
    "\n",
    "Вероятность того, что лампочка перегорит в течение первого дня эксплуатации, равна 0.0004. В жилом комплексе после ремонта в один день включили 5000 новых лампочек. \n",
    "\n",
    "Какова вероятность, что ни одна из них не перегорит в первый день? (__13,53%__) \n",
    "\n",
    "Какова вероятность, что перегорят ровно две? (__27,06%__)"
   ]
  },
  {
   "cell_type": "code",
   "execution_count": 5,
   "id": "4b8712d6",
   "metadata": {},
   "outputs": [
    {
     "data": {
      "text/plain": [
       "0.1353352832366127"
      ]
     },
     "execution_count": 5,
     "metadata": {},
     "output_type": "execute_result"
    }
   ],
   "source": [
    "lam  = 5000*0.0004\n",
    "p_0 = np.exp(lam*(-1))\n",
    "p_0"
   ]
  },
  {
   "cell_type": "code",
   "execution_count": 6,
   "id": "bb0ed80e",
   "metadata": {},
   "outputs": [
    {
     "data": {
      "text/plain": [
       "0.2706705664732254"
      ]
     },
     "execution_count": 6,
     "metadata": {},
     "output_type": "execute_result"
    }
   ],
   "source": [
    "p_2 = (lam**2/(np.math.factorial(2)))*np.exp(lam*(-1))\n",
    "p_2"
   ]
  },
  {
   "cell_type": "markdown",
   "id": "7487087b",
   "metadata": {},
   "source": [
    "#### Задача 3. \n",
    "Монету подбросили 144 раза. Какова вероятность, что орел выпадет ровно 70 раз?\n",
    "\n",
    "Ответ: 6,28%"
   ]
  },
  {
   "cell_type": "code",
   "execution_count": 7,
   "id": "46314b49",
   "metadata": {},
   "outputs": [
    {
     "data": {
      "text/plain": [
       "0.06281178035144776"
      ]
     },
     "execution_count": 7,
     "metadata": {},
     "output_type": "execute_result"
    }
   ],
   "source": [
    "p_144_70 = (np.math.factorial(144)/(np.math.factorial(70)*np.math.factorial(74)))*0.5**70*0.5**74\n",
    "p_144_70"
   ]
  },
  {
   "cell_type": "markdown",
   "id": "73f793f8",
   "metadata": {},
   "source": [
    "#### Задача 4. \n",
    "В первом ящике находится 10 мячей, из которых 7 - белые. Во втором ящике - 11 мячей, из которых 9 белых. Из каждого ящика вытаскивают случайным образом по два мяча. \n",
    "\n",
    "Какова вероятность того, что все мячи белые? (__30.54%__)\n",
    "\n",
    "Какова вероятность того, что ровно два мяча белые?  (__20.48%__) \n",
    "\n",
    "Какова вероятность того, что хотя бы один мяч белый? (__99.88%__)"
   ]
  },
  {
   "cell_type": "code",
   "execution_count": 8,
   "id": "0353cc24",
   "metadata": {},
   "outputs": [],
   "source": [
    "def combination(a,b):\n",
    "    return np.math.factorial(b)/(np.math.factorial(a)*np.math.factorial(b-a))\n"
   ]
  },
  {
   "cell_type": "code",
   "execution_count": 10,
   "id": "ea729d4d",
   "metadata": {},
   "outputs": [
    {
     "data": {
      "text/plain": [
       "0.3054545454545455"
      ]
     },
     "execution_count": 10,
     "metadata": {},
     "output_type": "execute_result"
    }
   ],
   "source": [
    "P1 = (combination(2,7)/combination(2,10))*(combination(2,9)/combination(2,11))\n",
    "P1"
   ]
  },
  {
   "cell_type": "code",
   "execution_count": 12,
   "id": "c72bba38",
   "metadata": {},
   "outputs": [
    {
     "data": {
      "text/plain": [
       "0.20484848484848484"
      ]
     },
     "execution_count": 12,
     "metadata": {},
     "output_type": "execute_result"
    }
   ],
   "source": [
    "P2 = (combination(2,7)*combination(2,2)+combination(1,7)*combination(1,3)*combination(1,9)*combination(1,2)+\n",
    "      combination(2,3)*combination(2,9))/(combination(2,10)*combination(2,11))\n",
    "\n",
    "P2"
   ]
  },
  {
   "cell_type": "code",
   "execution_count": 13,
   "id": "e239194e",
   "metadata": {},
   "outputs": [
    {
     "data": {
      "text/plain": [
       "0.9987878787878788"
      ]
     },
     "execution_count": 13,
     "metadata": {},
     "output_type": "execute_result"
    }
   ],
   "source": [
    "P3 = 1 - (combination(2,3)*combination(2,2))/(combination(2,10)*combination(2,11))\n",
    "P3"
   ]
  },
  {
   "cell_type": "code",
   "execution_count": null,
   "id": "d324815f",
   "metadata": {},
   "outputs": [],
   "source": []
  }
 ],
 "metadata": {
  "kernelspec": {
   "display_name": "Python 3 (ipykernel)",
   "language": "python",
   "name": "python3"
  },
  "language_info": {
   "codemirror_mode": {
    "name": "ipython",
    "version": 3
   },
   "file_extension": ".py",
   "mimetype": "text/x-python",
   "name": "python",
   "nbconvert_exporter": "python",
   "pygments_lexer": "ipython3",
   "version": "3.9.12"
  }
 },
 "nbformat": 4,
 "nbformat_minor": 5
}

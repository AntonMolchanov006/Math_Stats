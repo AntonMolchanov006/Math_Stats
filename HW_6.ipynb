{
 "cells": [
  {
   "cell_type": "markdown",
   "id": "03ce3977",
   "metadata": {},
   "source": [
    "### Урок 6. Сравнение долей. Построение доверительного интервала\n",
    "\n"
   ]
  },
  {
   "cell_type": "code",
   "execution_count": null,
   "id": "09146191",
   "metadata": {},
   "outputs": [],
   "source": []
  },
  {
   "cell_type": "code",
   "execution_count": 1,
   "id": "b0b8e672",
   "metadata": {},
   "outputs": [],
   "source": [
    "import numpy as np"
   ]
  },
  {
   "cell_type": "markdown",
   "id": "a763ffa8",
   "metadata": {},
   "source": [
    "#### Задача 1.\n",
    "\n",
    "Известно, что генеральная совокупность распределена нормально\n",
    "со средним квадратическим отклонением, равным 16.\n",
    "\n",
    "Найти доверительный интервал для оценки математического ожидания a с надежностью 0.95,\n",
    "если выборочная средняя M = 80, \n",
    "\n",
    "а объем выборки n = 256."
   ]
  },
  {
   "cell_type": "markdown",
   "id": "9adbf0e4",
   "metadata": {},
   "source": [
    "n = 256\n",
    "\n",
    "M = 80\n",
    "\n",
    "a = 0.95\n",
    "\n",
    "$\\sigma$ = 16"
   ]
  },
  {
   "cell_type": "markdown",
   "id": "e5d51f58",
   "metadata": {},
   "source": [
    "$$X_{ср}+/-Z_{\\frac{\\alpha}{2}}*\\frac{\\sigma}{\\sqrt{n}}$$"
   ]
  },
  {
   "cell_type": "code",
   "execution_count": 2,
   "id": "0d69c34b",
   "metadata": {},
   "outputs": [
    {
     "data": {
      "text/plain": [
       "81.96"
      ]
     },
     "execution_count": 2,
     "metadata": {},
     "output_type": "execute_result"
    }
   ],
   "source": [
    "80 + 1.96 *(16/np.sqrt(256))"
   ]
  },
  {
   "cell_type": "code",
   "execution_count": 3,
   "id": "0646d3e5",
   "metadata": {},
   "outputs": [
    {
     "data": {
      "text/plain": [
       "78.04"
      ]
     },
     "execution_count": 3,
     "metadata": {},
     "output_type": "execute_result"
    }
   ],
   "source": [
    "80 - 1.96 *(16/np.sqrt(256))"
   ]
  },
  {
   "cell_type": "markdown",
   "id": "2df79833",
   "metadata": {},
   "source": [
    "Доверительный интервал для оценки математического ожилания данной выборки принадлежит [78.04; 81.96]"
   ]
  },
  {
   "cell_type": "markdown",
   "id": "dc283253",
   "metadata": {},
   "source": [
    "#### Задача 2.\n",
    "\n",
    "В результате 10 независимых измерений некоторой величины X, выполненных с одинаковой точностью,\n",
    "получены опытные данные:\n",
    "\n",
    "6.9, 6.1, 6.2, 6.8, 7.5, 6.3, 6.4, 6.9, 6.7, 6.1\n",
    "\n",
    "Предполагая, что результаты измерений подчинены нормальному закону распределения вероятностей,\n",
    "\n",
    "оценить истинное значение величины X при помощи доверительного интервала, покрывающего это\n",
    "значение с доверительной вероятностью 0,95."
   ]
  },
  {
   "cell_type": "code",
   "execution_count": 8,
   "id": "b4ee311d",
   "metadata": {},
   "outputs": [
    {
     "data": {
      "text/plain": [
       "[6.9, 6.1, 6.2, 6.8, 7.5, 6.3, 6.4, 6.9, 6.7, 6.1]"
      ]
     },
     "execution_count": 8,
     "metadata": {},
     "output_type": "execute_result"
    }
   ],
   "source": [
    "import numpy as np\n",
    "X = [6.9, 6.1, 6.2, 6.8, 7.5, 6.3, 6.4, 6.9, 6.7, 6.1]\n",
    "X"
   ]
  },
  {
   "cell_type": "markdown",
   "id": "96a5b174",
   "metadata": {},
   "source": [
    "\n",
    "$$X_{ср}+/-t_{\\frac{\\alpha}{2}}*\\frac{\\sigma}{\\sqrt{n}}$$\n"
   ]
  },
  {
   "cell_type": "code",
   "execution_count": 11,
   "id": "de3b4741",
   "metadata": {},
   "outputs": [
    {
     "data": {
      "text/plain": [
       "0.4508017549014448"
      ]
     },
     "execution_count": 11,
     "metadata": {},
     "output_type": "execute_result"
    }
   ],
   "source": [
    "sigma = np.std(X, ddof=1)\n",
    "sigma"
   ]
  },
  {
   "cell_type": "code",
   "execution_count": 12,
   "id": "d86b98ec",
   "metadata": {},
   "outputs": [
    {
     "data": {
      "text/plain": [
       "10"
      ]
     },
     "execution_count": 12,
     "metadata": {},
     "output_type": "execute_result"
    }
   ],
   "source": [
    "len(X)"
   ]
  },
  {
   "cell_type": "markdown",
   "id": "90b1a886",
   "metadata": {},
   "source": [
    "$t_{\\frac{\\alpha}{2}} = 2.262 $"
   ]
  },
  {
   "cell_type": "code",
   "execution_count": 15,
   "id": "ebc2d0de",
   "metadata": {},
   "outputs": [
    {
     "data": {
      "text/plain": [
       "6.590000000000001"
      ]
     },
     "execution_count": 15,
     "metadata": {},
     "output_type": "execute_result"
    }
   ],
   "source": [
    "X_avg = np.mean(X)\n",
    "X_avg"
   ]
  },
  {
   "cell_type": "code",
   "execution_count": 17,
   "id": "80f030b7",
   "metadata": {},
   "outputs": [
    {
     "data": {
      "text/plain": [
       "6.2675382559124255"
      ]
     },
     "execution_count": 17,
     "metadata": {},
     "output_type": "execute_result"
    }
   ],
   "source": [
    "6.59-2.262*(sigma/np.sqrt(10))"
   ]
  },
  {
   "cell_type": "code",
   "execution_count": 18,
   "id": "342b5dcf",
   "metadata": {},
   "outputs": [
    {
     "data": {
      "text/plain": [
       "6.912461744087574"
      ]
     },
     "execution_count": 18,
     "metadata": {},
     "output_type": "execute_result"
    }
   ],
   "source": [
    "6.59+2.262*(sigma/np.sqrt(10))"
   ]
  },
  {
   "cell_type": "markdown",
   "id": "d3f59401",
   "metadata": {},
   "source": [
    "С вероятностью 95% истинное значение величины Х будет принадлежать интервалу [6.27; 6.91]"
   ]
  },
  {
   "cell_type": "markdown",
   "id": "a356cd5c",
   "metadata": {},
   "source": [
    "#### Задача 3.\n",
    "\n",
    "На препарате А положительный результат лечения наблюдается у 17 из 32 пациентов, а на препарате В у 9 из 22. \n",
    "\n",
    "Построить 95% доверительный интервал для разности долей.\n",
    "\n",
    "Обнаружены ли статистически значимые различия?"
   ]
  },
  {
   "cell_type": "markdown",
   "id": "07b54f8d",
   "metadata": {},
   "source": [
    "n_a = 32 \n",
    "m_a = 7 \n",
    "p_a = 7/32 = 0.22\n",
    "\n",
    "n_b = 22\n",
    "m_b = 9\n",
    "p_b = 9/22 = 0.41"
   ]
  },
  {
   "cell_type": "code",
   "execution_count": 21,
   "id": "ba192a41",
   "metadata": {},
   "outputs": [
    {
     "data": {
      "text/plain": [
       "0.2962962962962963"
      ]
     },
     "execution_count": 21,
     "metadata": {},
     "output_type": "execute_result"
    }
   ],
   "source": [
    "p = (7+9)/(32+22)\n",
    "p\n"
   ]
  },
  {
   "cell_type": "code",
   "execution_count": 22,
   "id": "e56d8ce1",
   "metadata": {},
   "outputs": [
    {
     "data": {
      "text/plain": [
       "-1.8083589367045831"
      ]
     },
     "execution_count": 22,
     "metadata": {},
     "output_type": "execute_result"
    }
   ],
   "source": [
    "z = ((7/32 - 9/22) - 0.5*(1/32 + 1/22))/np.sqrt(p*(1-p)*(1/32 + 1/22))\n",
    "z"
   ]
  },
  {
   "cell_type": "markdown",
   "id": "ecca9cf0",
   "metadata": {},
   "source": [
    "z_t = +/- 1.96\n",
    "\n",
    "Рассчётное значение z попадает в интервал, значит статистически значимых различий нет."
   ]
  },
  {
   "cell_type": "code",
   "execution_count": null,
   "id": "e11d3a3f",
   "metadata": {},
   "outputs": [],
   "source": []
  }
 ],
 "metadata": {
  "kernelspec": {
   "display_name": "Python 3 (ipykernel)",
   "language": "python",
   "name": "python3"
  },
  "language_info": {
   "codemirror_mode": {
    "name": "ipython",
    "version": 3
   },
   "file_extension": ".py",
   "mimetype": "text/x-python",
   "name": "python",
   "nbconvert_exporter": "python",
   "pygments_lexer": "ipython3",
   "version": "3.9.12"
  }
 },
 "nbformat": 4,
 "nbformat_minor": 5
}

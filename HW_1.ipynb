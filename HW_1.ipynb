{
 "cells": [
  {
   "cell_type": "markdown",
   "id": "e7c333a6",
   "metadata": {},
   "source": [
    "Условие:\n",
    "\n",
    "1. Из колоды в 52 карты извлекаются случайным образом 4 карты. \n",
    "a) Найти вероятность того, что все карты – крести. \n",
    "б) Найти вероятность, что среди 4-х карт окажется хотя бы один туз.\n",
    "\n",
    "2. На входной двери подъезда установлен кодовый замок, содержащий десять кнопок с цифрами от 0 до 9. \n",
    "Код содержит три цифры, которые нужно нажать одновременно. Какова вероятность того, что человек, не знающий код, \n",
    "откроет дверь с первой попытки?\n",
    "\n",
    "3. В ящике имеется 15 деталей, из которых 9 окрашены. \n",
    "Рабочий случайным образом извлекает 3 детали. \n",
    "Какова вероятность того, что все извлеченные детали окрашены?\n",
    "\n",
    "4. В лотерее 100 билетов. Из них 2 выигрышных. Какова вероятность того, что 2 приобретенных билета окажутся выигрышными?"
   ]
  },
  {
   "cell_type": "code",
   "execution_count": 1,
   "id": "a9b7eb99",
   "metadata": {},
   "outputs": [],
   "source": [
    "import numpy as np"
   ]
  },
  {
   "cell_type": "code",
   "execution_count": 4,
   "id": "540e5b5f",
   "metadata": {},
   "outputs": [],
   "source": [
    "def combination(a,b):\n",
    "    return np.math.factorial(b)/(np.math.factorial(a)*np.math.factorial(b-a))"
   ]
  },
  {
   "cell_type": "markdown",
   "id": "a7c675a3",
   "metadata": {},
   "source": [
    "#### 1. Из колоды в 52 карты извлекаются случайным образом 4 карты. \n",
    "a) Найти вероятность того, что все карты – крести. (Ответ: 0,2641%)\n",
    "\n",
    "б) Найти вероятность, что среди 4-х карт окажется хотя бы один туз. (Ответ: 28,12%)\n"
   ]
  },
  {
   "cell_type": "code",
   "execution_count": 6,
   "id": "9b44e96b",
   "metadata": {},
   "outputs": [
    {
     "data": {
      "text/plain": [
       "0.0026410564225690276"
      ]
     },
     "execution_count": 6,
     "metadata": {},
     "output_type": "execute_result"
    }
   ],
   "source": [
    "c_general = combination(4,52)\n",
    "c_favorable = combination(4,13)\n",
    "c = c_favorable/c_general\n",
    "c"
   ]
  },
  {
   "cell_type": "code",
   "execution_count": 8,
   "id": "75ba555d",
   "metadata": {},
   "outputs": [
    {
     "data": {
      "text/plain": [
       "0.2812632745405855"
      ]
     },
     "execution_count": 8,
     "metadata": {},
     "output_type": "execute_result"
    }
   ],
   "source": [
    "c4_52 = combination(4,52)\n",
    "c4_48 = combination(4,48)\n",
    "c = (c4_52-c4_48)/c4_52\n",
    "c"
   ]
  },
  {
   "cell_type": "markdown",
   "id": "4a49c75d",
   "metadata": {},
   "source": [
    "#### 2. На входной двери подъезда установлен кодовый замок, содержащий десять кнопок с цифрами от 0 до 9. \n",
    "Код содержит три цифры, которые нужно нажать одновременно. Какова вероятность того, что человек, не знающий код, \n",
    "откроет дверь с первой попытки? (Ответ: 1/120 или 0,0083)"
   ]
  },
  {
   "cell_type": "code",
   "execution_count": 14,
   "id": "c22902c3",
   "metadata": {},
   "outputs": [
    {
     "data": {
      "text/plain": [
       "120.0"
      ]
     },
     "execution_count": 14,
     "metadata": {},
     "output_type": "execute_result"
    }
   ],
   "source": [
    "c = combination(3,10)\n",
    "c"
   ]
  },
  {
   "cell_type": "code",
   "execution_count": 16,
   "id": "0e4f385c",
   "metadata": {},
   "outputs": [
    {
     "data": {
      "text/plain": [
       "0.008333333333333333"
      ]
     },
     "execution_count": 16,
     "metadata": {},
     "output_type": "execute_result"
    }
   ],
   "source": [
    "p = 1/c\n",
    "p"
   ]
  },
  {
   "cell_type": "markdown",
   "id": "4f386355",
   "metadata": {},
   "source": [
    "#### 3. В ящике имеется 15 деталей, из которых 9 окрашены. \n",
    "Рабочий случайным образом извлекает 3 детали. \n",
    "Какова вероятность того, что все извлеченные детали окрашены? (Ответ: 18,46%)"
   ]
  },
  {
   "cell_type": "code",
   "execution_count": 17,
   "id": "1db264c2",
   "metadata": {},
   "outputs": [
    {
     "data": {
      "text/plain": [
       "455.0"
      ]
     },
     "execution_count": 17,
     "metadata": {},
     "output_type": "execute_result"
    }
   ],
   "source": [
    "c3_15 = combination(3,15)\n",
    "c3_15"
   ]
  },
  {
   "cell_type": "code",
   "execution_count": 20,
   "id": "2a1be8ff",
   "metadata": {},
   "outputs": [
    {
     "data": {
      "text/plain": [
       "84.0"
      ]
     },
     "execution_count": 20,
     "metadata": {},
     "output_type": "execute_result"
    }
   ],
   "source": [
    "c3_9=combination(3,9)\n",
    "c3_9"
   ]
  },
  {
   "cell_type": "code",
   "execution_count": 22,
   "id": "fcf411a7",
   "metadata": {},
   "outputs": [
    {
     "data": {
      "text/plain": [
       "0.18461538461538463"
      ]
     },
     "execution_count": 22,
     "metadata": {},
     "output_type": "execute_result"
    }
   ],
   "source": [
    "p=c3_9/c3_15\n",
    "p"
   ]
  },
  {
   "cell_type": "markdown",
   "id": "3d586799",
   "metadata": {},
   "source": [
    "#### 4. В лотерее 100 билетов. Из них 2 выигрышных. \n",
    "Какова вероятность того, что 2 приобретенных билета окажутся выигрышными?"
   ]
  },
  {
   "cell_type": "code",
   "execution_count": 25,
   "id": "7441d3b9",
   "metadata": {},
   "outputs": [
    {
     "data": {
      "text/plain": [
       "0.00020202020202020202"
      ]
     },
     "execution_count": 25,
     "metadata": {},
     "output_type": "execute_result"
    }
   ],
   "source": [
    "p= combination(2,2)/combination(2,100)\n",
    "p"
   ]
  },
  {
   "cell_type": "code",
   "execution_count": null,
   "id": "29445544",
   "metadata": {},
   "outputs": [],
   "source": []
  }
 ],
 "metadata": {
  "kernelspec": {
   "display_name": "Python 3 (ipykernel)",
   "language": "python",
   "name": "python3"
  },
  "language_info": {
   "codemirror_mode": {
    "name": "ipython",
    "version": 3
   },
   "file_extension": ".py",
   "mimetype": "text/x-python",
   "name": "python",
   "nbconvert_exporter": "python",
   "pygments_lexer": "ipython3",
   "version": "3.9.12"
  }
 },
 "nbformat": 4,
 "nbformat_minor": 5
}

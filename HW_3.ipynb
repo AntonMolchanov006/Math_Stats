{
 "cells": [
  {
   "cell_type": "markdown",
   "id": "9364cc77",
   "metadata": {},
   "source": [
    "### Условие:\n",
    "\n",
    "#### Задача 1\n",
    "Даны значения зарплат из выборки выпускников: 100, 80, 75, 77, 89, 33, 45, 25, 65, 17, 30, 24, 57, 55, 70, 75, 65, 84, 90, 150. Посчитать (желательно без использования статистических методов наподобие std, var, mean) среднее арифметическое, среднее квадратичное отклонение, смещенную и несмещенную оценки дисперсий для данной выборки.\n",
    "#### Задача 2\n",
    "В первом ящике находится 8 мячей, из которых 5 - белые. Во втором ящике - 12 мячей, из которых 5 белых. Из первого ящика вытаскивают случайным образом два мяча, из второго - 4. Какова вероятность того, что 3 мяча белые?\n",
    "#### Задача 3\n",
    "На соревновании по биатлону один из трех спортсменов стреляет и попадает в мишень. Вероятность попадания для первого спортсмена равна 0.9, для второго — 0.8, для третьего — 0.6. Найти вероятность того, что выстрел произведен: a). первым спортсменом б). вторым спортсменом в). третьим спортсменом.\n",
    "#### Задача 4\n",
    "В университет на факультеты A и B поступило равное количество студентов, а на факультет C студентов поступило столько же, сколько на A и B вместе. Вероятность того, что студент факультета A сдаст первую сессию, равна 0.8. Для студента факультета B эта вероятность равна 0.7, а для студента факультета C - 0.9. Студент сдал первую сессию. Какова вероятность, что он учится: a). на факультете A б). на факультете B в). на факультете C?\n",
    "#### Задача 5\n",
    "Устройство состоит из трех деталей. Для первой детали вероятность выйти из строя в первый месяц равна 0.1, для второй - 0.2, для третьей - 0.25. Какова вероятность того, что в первый месяц выйдут из строя: а). все детали б). только две детали в). хотя бы одна деталь г). от одной до двух деталей?"
   ]
  },
  {
   "cell_type": "markdown",
   "id": "bcdddad4",
   "metadata": {},
   "source": [
    "#### Задача 1\n",
    "Даны значения зарплат из выборки выпускников: 100, 80, 75, 77, 89, 33, 45, 25, 65, 17, 30, 24, 57, 55, 70, 75, 65, 84, 90, 150. \n",
    "\n",
    "Посчитать (желательно без использования статистических методов наподобие std, var, mean) среднее арифметическое (__65.3__), среднее квадратичное отклонение (__31.62__), смещенную (__950.11__) и несмещенную (__1000.12__) оценки дисперсий для данной выборки."
   ]
  },
  {
   "cell_type": "code",
   "execution_count": 5,
   "id": "a70f1da3",
   "metadata": {},
   "outputs": [],
   "source": [
    "import numpy as np\n",
    "salary = [100, 80, 75, 77, 89, 33, 45, 25, 65, 17, 30, 24, 57, 55, 70, 75, 65, 84, 90, 150]\n"
   ]
  },
  {
   "cell_type": "code",
   "execution_count": 6,
   "id": "e2b94ba7",
   "metadata": {},
   "outputs": [
    {
     "data": {
      "text/plain": [
       "65.3"
      ]
     },
     "execution_count": 6,
     "metadata": {},
     "output_type": "execute_result"
    }
   ],
   "source": [
    "salary_avg = sum(salary)/len(salary)\n",
    "salary_avg"
   ]
  },
  {
   "cell_type": "code",
   "execution_count": 9,
   "id": "feca88c0",
   "metadata": {},
   "outputs": [
    {
     "data": {
      "text/plain": [
       "65.3"
      ]
     },
     "execution_count": 9,
     "metadata": {},
     "output_type": "execute_result"
    }
   ],
   "source": [
    "np.mean(salary)"
   ]
  },
  {
   "cell_type": "code",
   "execution_count": 7,
   "id": "b35568f4",
   "metadata": {},
   "outputs": [
    {
     "data": {
      "text/plain": [
       "31.624607341019814"
      ]
     },
     "execution_count": 7,
     "metadata": {},
     "output_type": "execute_result"
    }
   ],
   "source": [
    "def unbiased_std(data: list):\n",
    "    avg = sum(data)/len(data)\n",
    "    summa = 0\n",
    "    for s in data:\n",
    "        summa += (s - avg)**2\n",
    "    return np.sqrt(summa/(len(data)-1))\n",
    "salary_std = unbiased_std(salary)\n",
    "salary_std"
   ]
  },
  {
   "cell_type": "code",
   "execution_count": 8,
   "id": "de4f65f7",
   "metadata": {},
   "outputs": [
    {
     "data": {
      "text/plain": [
       "31.624607341019814"
      ]
     },
     "execution_count": 8,
     "metadata": {},
     "output_type": "execute_result"
    }
   ],
   "source": [
    "np.std(salary, ddof=1)"
   ]
  },
  {
   "cell_type": "code",
   "execution_count": 11,
   "id": "27481879",
   "metadata": {},
   "outputs": [
    {
     "data": {
      "text/plain": [
       "1000.1157894736842"
      ]
     },
     "execution_count": 11,
     "metadata": {},
     "output_type": "execute_result"
    }
   ],
   "source": [
    "def unbiased_var(data):\n",
    "    avg = sum(data)/len(data)\n",
    "    summa = 0\n",
    "    for s in data:\n",
    "        summa += (s - avg)**2\n",
    "    return summa/(len(data)-1)\n",
    "salary_un_var = unbiased_var(salary)\n",
    "salary_un_var"
   ]
  },
  {
   "cell_type": "code",
   "execution_count": 12,
   "id": "633e0ff5",
   "metadata": {},
   "outputs": [
    {
     "data": {
      "text/plain": [
       "950.11"
      ]
     },
     "execution_count": 12,
     "metadata": {},
     "output_type": "execute_result"
    }
   ],
   "source": [
    "def shift_var(data):\n",
    "    avg = sum(data)/len(data)\n",
    "    summa = 0\n",
    "    for s in data:\n",
    "        summa += (s - avg)**2\n",
    "    return summa/len(data)\n",
    "salary_var = shift_var(salary)\n",
    "salary_var"
   ]
  },
  {
   "cell_type": "code",
   "execution_count": 14,
   "id": "ea8add72",
   "metadata": {},
   "outputs": [
    {
     "data": {
      "text/plain": [
       "1000.1157894736842"
      ]
     },
     "execution_count": 14,
     "metadata": {},
     "output_type": "execute_result"
    }
   ],
   "source": [
    "np.var(salary, ddof=1)"
   ]
  },
  {
   "cell_type": "code",
   "execution_count": 15,
   "id": "b78915ee",
   "metadata": {},
   "outputs": [
    {
     "data": {
      "text/plain": [
       "950.11"
      ]
     },
     "execution_count": 15,
     "metadata": {},
     "output_type": "execute_result"
    }
   ],
   "source": [
    "np.var(salary)"
   ]
  },
  {
   "cell_type": "markdown",
   "id": "1cd71a52",
   "metadata": {},
   "source": [
    "#### Задача 2\n",
    "В первом ящике находится 8 мячей, из которых 5 - белые. Во втором ящике - 12 мячей, из которых 5 белых. Из первого ящика вытаскивают случайным образом два мяча, из второго - 4. Какова вероятность того, что 3 мяча белые?\n",
    "\n",
    "Ответ: 36,86%"
   ]
  },
  {
   "cell_type": "code",
   "execution_count": 19,
   "id": "c9e739da",
   "metadata": {},
   "outputs": [],
   "source": [
    "def combi(a,b):\n",
    "    return np.math.factorial(b)/(np.math.factorial(a)*np.math.factorial(b-a))"
   ]
  },
  {
   "cell_type": "code",
   "execution_count": 20,
   "id": "a565ccc7",
   "metadata": {},
   "outputs": [
    {
     "data": {
      "text/plain": [
       "0.3686868686868687"
      ]
     },
     "execution_count": 20,
     "metadata": {},
     "output_type": "execute_result"
    }
   ],
   "source": [
    "P = (combi(2,5)*combi(1,5)*combi(3,7)+\n",
    "     combi(1,5)*combi(1,3)*combi(2,5)*combi(2,7)+\n",
    "     combi(2,3)*combi(3,5)*combi(1,7))/(combi(2,8)*combi(4,12))\n",
    "P"
   ]
  },
  {
   "cell_type": "markdown",
   "id": "da473c7b",
   "metadata": {},
   "source": [
    "#### Задача 3\n",
    "На соревновании по биатлону один из трех спортсменов стреляет и попадает в мишень. Вероятность попадания для первого спортсмена равна 0.9, для второго — 0.8, для третьего — 0.6. \n",
    "\n",
    "Найти вероятность того, что выстрел произведен: \n",
    "\n",
    "a). первым спортсменом (__0.39__)\n",
    "\n",
    "б). вторым спортсменом (__0.35__)\n",
    "\n",
    "в). третьим спортсменом. (__0.26__)"
   ]
  },
  {
   "cell_type": "code",
   "execution_count": 21,
   "id": "940652f4",
   "metadata": {},
   "outputs": [
    {
     "data": {
      "text/plain": [
       "0.7666666666666666"
      ]
     },
     "execution_count": 21,
     "metadata": {},
     "output_type": "execute_result"
    }
   ],
   "source": [
    "P_A = 0.9/3+0.8/3+0.6/3\n",
    "P_A"
   ]
  },
  {
   "cell_type": "code",
   "execution_count": 23,
   "id": "b1fc4490",
   "metadata": {},
   "outputs": [
    {
     "data": {
      "text/plain": [
       "0.391304347826087"
      ]
     },
     "execution_count": 23,
     "metadata": {},
     "output_type": "execute_result"
    }
   ],
   "source": [
    "P_B1A = 0.9/3/P_A\n",
    "P_B1A"
   ]
  },
  {
   "cell_type": "code",
   "execution_count": 24,
   "id": "ce8a905d",
   "metadata": {},
   "outputs": [
    {
     "data": {
      "text/plain": [
       "0.3478260869565218"
      ]
     },
     "execution_count": 24,
     "metadata": {},
     "output_type": "execute_result"
    }
   ],
   "source": [
    "P_B2A = 0.8/3/P_A\n",
    "P_B2A"
   ]
  },
  {
   "cell_type": "code",
   "execution_count": 25,
   "id": "0d6727c8",
   "metadata": {},
   "outputs": [
    {
     "data": {
      "text/plain": [
       "0.2608695652173913"
      ]
     },
     "execution_count": 25,
     "metadata": {},
     "output_type": "execute_result"
    }
   ],
   "source": [
    "P_B3A = 0.6/3/P_A\n",
    "P_B3A"
   ]
  },
  {
   "cell_type": "markdown",
   "id": "e7c66055",
   "metadata": {},
   "source": [
    "#### Задача 4\n",
    "В университет на факультеты A и B поступило равное количество студентов, а на факультет C студентов поступило столько же, сколько на A и B вместе. Вероятность того, что студент факультета A сдаст первую сессию, равна 0.8. Для студента факультета B эта вероятность равна 0.7, а для студента факультета C - 0.9. \n",
    "\n",
    "Студент сдал первую сессию. Какова вероятность, что он учится: \n",
    "\n",
    "a). на факультете A (__24.24%__)\n",
    "\n",
    "б). на факультете B (__21.21%__)\n",
    "\n",
    "в). на факультете C? (__54.54%__)"
   ]
  },
  {
   "cell_type": "code",
   "execution_count": 28,
   "id": "b6ee8263",
   "metadata": {},
   "outputs": [
    {
     "data": {
      "text/plain": [
       "0.825"
      ]
     },
     "execution_count": 28,
     "metadata": {},
     "output_type": "execute_result"
    }
   ],
   "source": [
    "P_A = 0.8/4+0.7/4+0.9/2\n",
    "P_A"
   ]
  },
  {
   "cell_type": "code",
   "execution_count": 32,
   "id": "687d65bf",
   "metadata": {},
   "outputs": [
    {
     "data": {
      "text/plain": [
       "0.24242424242424246"
      ]
     },
     "execution_count": 32,
     "metadata": {},
     "output_type": "execute_result"
    }
   ],
   "source": [
    "P_B1A = 0.8/4/P_A\n",
    "P_B1A"
   ]
  },
  {
   "cell_type": "code",
   "execution_count": 33,
   "id": "170e1e2c",
   "metadata": {},
   "outputs": [
    {
     "data": {
      "text/plain": [
       "0.21212121212121213"
      ]
     },
     "execution_count": 33,
     "metadata": {},
     "output_type": "execute_result"
    }
   ],
   "source": [
    "P_B2A = 0.7/4/P_A\n",
    "P_B2A"
   ]
  },
  {
   "cell_type": "code",
   "execution_count": 34,
   "id": "1ed0f6ff",
   "metadata": {},
   "outputs": [
    {
     "data": {
      "text/plain": [
       "0.5454545454545455"
      ]
     },
     "execution_count": 34,
     "metadata": {},
     "output_type": "execute_result"
    }
   ],
   "source": [
    "P_B3A = 0.9/2/P_A\n",
    "P_B3A"
   ]
  },
  {
   "cell_type": "markdown",
   "id": "3b7dad73",
   "metadata": {},
   "source": [
    "#### Задача 5\n",
    "Устройство состоит из трех деталей. Для первой детали вероятность выйти из строя в первый месяц равна 0.1, для второй - 0.2, для третьей - 0.25. \n",
    "\n",
    "Какова вероятность того, что в первый месяц выйдут из строя: \n",
    "\n",
    "а). все детали (__0.5%__)\n",
    "\n",
    "б). только две детали (__8%__) \n",
    "\n",
    "в). хотя бы одна деталь (__46%__)\n",
    "\n",
    "г). от одной до двух деталей? (__45.5%__)"
   ]
  },
  {
   "cell_type": "code",
   "execution_count": 37,
   "id": "d0b2c45e",
   "metadata": {},
   "outputs": [
    {
     "data": {
      "text/plain": [
       "0.005000000000000001"
      ]
     },
     "execution_count": 37,
     "metadata": {},
     "output_type": "execute_result"
    }
   ],
   "source": [
    "P_all = 0.1*0.2*0.25\n",
    "P_all"
   ]
  },
  {
   "cell_type": "code",
   "execution_count": 38,
   "id": "a4300583",
   "metadata": {},
   "outputs": [
    {
     "data": {
      "text/plain": [
       "0.08000000000000002"
      ]
     },
     "execution_count": 38,
     "metadata": {},
     "output_type": "execute_result"
    }
   ],
   "source": [
    "P_2 = 0.1*0.2*0.75+0.1*0.8*0.25+0.9*0.2*0.25\n",
    "P_2"
   ]
  },
  {
   "cell_type": "code",
   "execution_count": 39,
   "id": "738c7a13",
   "metadata": {},
   "outputs": [
    {
     "data": {
      "text/plain": [
       "0.45999999999999996"
      ]
     },
     "execution_count": 39,
     "metadata": {},
     "output_type": "execute_result"
    }
   ],
   "source": [
    "P_1 = 1 - 0.9*0.8*0.75\n",
    "P_1"
   ]
  },
  {
   "cell_type": "code",
   "execution_count": 40,
   "id": "3a26951f",
   "metadata": {},
   "outputs": [
    {
     "data": {
      "text/plain": [
       "0.45499999999999996"
      ]
     },
     "execution_count": 40,
     "metadata": {},
     "output_type": "execute_result"
    }
   ],
   "source": [
    "P_1_2 = P_1 - P_all\n",
    "P_1_2"
   ]
  },
  {
   "cell_type": "code",
   "execution_count": null,
   "id": "0c0d9f96",
   "metadata": {},
   "outputs": [],
   "source": []
  }
 ],
 "metadata": {
  "kernelspec": {
   "display_name": "Python 3 (ipykernel)",
   "language": "python",
   "name": "python3"
  },
  "language_info": {
   "codemirror_mode": {
    "name": "ipython",
    "version": 3
   },
   "file_extension": ".py",
   "mimetype": "text/x-python",
   "name": "python",
   "nbconvert_exporter": "python",
   "pygments_lexer": "ipython3",
   "version": "3.9.12"
  }
 },
 "nbformat": 4,
 "nbformat_minor": 5
}

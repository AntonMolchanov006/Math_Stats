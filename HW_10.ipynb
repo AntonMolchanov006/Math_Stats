{
 "cells": [
  {
   "cell_type": "markdown",
   "id": "4c897a1e",
   "metadata": {},
   "source": [
    "### Урок 10. Дисперсионный анализ"
   ]
  },
  {
   "cell_type": "markdown",
   "id": "e12ed352",
   "metadata": {},
   "source": [
    "#### Задача 1\n",
    "\n",
    "Провести дисперсионный анализ для определения того, есть ли различия среднего роста среди взрослых футболистов, хоккеистов и штангистов. Даны значения роста в трех группах случайно выбранных спортсменов: \n",
    "\n",
    "Футболисты: 173, 175, 180, 178, 177, 185, 183, 182. \n",
    "\n",
    "Хоккеисты: 177, 179, 180, 188, 177, 172, 171, 184, 180. \n",
    "\n",
    "Штангисты: 172, 173, 169, 177, 166, 180, 178, 177, 172, 166, 170."
   ]
  },
  {
   "cell_type": "code",
   "execution_count": 15,
   "id": "0417dfb8",
   "metadata": {},
   "outputs": [],
   "source": [
    "import numpy as np\n",
    "import scipy.stats as stats\n",
    "import pandas as pd\n",
    "import pylab\n",
    "from statsmodels.stats.multicomp import pairwise_tukeyhsd"
   ]
  },
  {
   "cell_type": "code",
   "execution_count": 2,
   "id": "d1fec15d",
   "metadata": {},
   "outputs": [],
   "source": [
    "football = np.array([173, 175, 180, 178, 177, 185, 183, 182])\n",
    "hockey = np.array([177, 179, 180, 188, 177, 172, 171, 184, 180])\n",
    "powerlift = np.array([172, 173, 169, 177, 166, 180, 178, 177, 172, 166, 170])"
   ]
  },
  {
   "cell_type": "markdown",
   "id": "5d3292ac",
   "metadata": {},
   "source": [
    "Проверяем на нормальность распределения наши выборки."
   ]
  },
  {
   "cell_type": "code",
   "execution_count": 5,
   "id": "7cd15e97",
   "metadata": {},
   "outputs": [
    {
     "data": {
      "text/plain": [
       "ShapiroResult(statistic=0.9775081276893616, pvalue=0.9495397210121155)"
      ]
     },
     "execution_count": 5,
     "metadata": {},
     "output_type": "execute_result"
    }
   ],
   "source": [
    "stats.shapiro(football)"
   ]
  },
  {
   "cell_type": "code",
   "execution_count": 6,
   "id": "7dac94d6",
   "metadata": {},
   "outputs": [
    {
     "data": {
      "text/plain": [
       "ShapiroResult(statistic=0.9579195976257324, pvalue=0.7763133645057678)"
      ]
     },
     "execution_count": 6,
     "metadata": {},
     "output_type": "execute_result"
    }
   ],
   "source": [
    "stats.shapiro(hockey)"
   ]
  },
  {
   "cell_type": "code",
   "execution_count": 7,
   "id": "edeb1bd7",
   "metadata": {},
   "outputs": [
    {
     "data": {
      "text/plain": [
       "ShapiroResult(statistic=0.93868088722229, pvalue=0.5051169991493225)"
      ]
     },
     "execution_count": 7,
     "metadata": {},
     "output_type": "execute_result"
    }
   ],
   "source": [
    "stats.shapiro(powerlift)"
   ]
  },
  {
   "cell_type": "markdown",
   "id": "56634fff",
   "metadata": {},
   "source": [
    "Так как во всех трех случаях p-value получился больше $\\alpha$, то верна нулевая гипотеза, значит данные в выборках распределены нормально."
   ]
  },
  {
   "cell_type": "markdown",
   "id": "f2ad075d",
   "metadata": {},
   "source": [
    "Теперь проверим данные на равенство дисперсий с помощью теста Бартлетта."
   ]
  },
  {
   "cell_type": "code",
   "execution_count": 29,
   "id": "5d6ec114",
   "metadata": {},
   "outputs": [
    {
     "data": {
      "text/plain": [
       "BartlettResult(statistic=0.4640521043406442, pvalue=0.7929254656083131)"
      ]
     },
     "execution_count": 29,
     "metadata": {},
     "output_type": "execute_result"
    }
   ],
   "source": [
    "stats.bartlett(football, hockey, powerlift)"
   ]
  },
  {
   "cell_type": "markdown",
   "id": "52c6516f",
   "metadata": {},
   "source": [
    "Исходя из результата теста Бартлетта, получаем, что у нас во всех трех выборках дисперсии равны."
   ]
  },
  {
   "cell_type": "markdown",
   "id": "986e94e9",
   "metadata": {},
   "source": [
    "С помощью однофакторного критерия Фишера проводим дисперсионный анализ наших данных."
   ]
  },
  {
   "cell_type": "code",
   "execution_count": 30,
   "id": "c18eec7a",
   "metadata": {},
   "outputs": [
    {
     "data": {
      "text/plain": [
       "F_onewayResult(statistic=5.500053450812596, pvalue=0.010482206918698694)"
      ]
     },
     "execution_count": 30,
     "metadata": {},
     "output_type": "execute_result"
    }
   ],
   "source": [
    "stats.f_oneway(football, hockey, powerlift)"
   ]
  },
  {
   "cell_type": "markdown",
   "id": "7a7fbc77",
   "metadata": {},
   "source": [
    "Так как p-value маленький, значит между выборками имеются статистические различия."
   ]
  },
  {
   "cell_type": "markdown",
   "id": "506fabd8",
   "metadata": {},
   "source": [
    "Проведем __post hoc test__"
   ]
  },
  {
   "cell_type": "code",
   "execution_count": 33,
   "id": "65182007",
   "metadata": {},
   "outputs": [
    {
     "name": "stdout",
     "output_type": "stream",
     "text": [
      "   Multiple Comparison of Means - Tukey HSD, FWER=0.05    \n",
      "==========================================================\n",
      " group1    group2  meandiff p-adj   lower    upper  reject\n",
      "----------------------------------------------------------\n",
      "football    hockey  -0.4583  0.979  -6.2732  5.3566  False\n",
      "football powerlift  -6.3977 0.0219 -11.9583 -0.8372   True\n",
      "  hockey powerlift  -5.9394 0.0284 -11.3181 -0.5607   True\n",
      "----------------------------------------------------------\n"
     ]
    }
   ],
   "source": [
    "sportsmen = pd.DataFrame({'growth': [173, 175, 180, 178, 177, 185, 183, 182,\n",
    "                                   177, 179, 180, 188, 177, 172, 171, 184, 180,\n",
    "                                   172, 173, 169, 177, 166, 180, 178, 177, 172, 166, 170],\n",
    "                         'sport': np.repeat(['football', 'hockey', 'powerlift'], repeats= [len(football), len(hockey), len(powerlift)])})\n",
    "tukey = pairwise_tukeyhsd(endog= sportsmen['growth'],\n",
    "                         groups= sportsmen['sport'],\n",
    "                         alpha= 0.05)\n",
    "print(tukey)"
   ]
  },
  {
   "cell_type": "markdown",
   "id": "690b3bfd",
   "metadata": {},
   "source": [
    "Мы видим, что между футболистами и штангистами, а также между хокеистами и штангистами обнаружены статистически значимые различия, поскольку _p-adj_ < 0.05.\n",
    "\n",
    "Значит, что штангисты отличаются ростом от футболистов и хоккеистов. При этом футболисты и хоккеисты ростом не отличаются."
   ]
  },
  {
   "cell_type": "code",
   "execution_count": null,
   "id": "a0afabba",
   "metadata": {},
   "outputs": [],
   "source": []
  }
 ],
 "metadata": {
  "kernelspec": {
   "display_name": "Python 3.10.7 64-bit",
   "language": "python",
   "name": "python3"
  },
  "language_info": {
   "codemirror_mode": {
    "name": "ipython",
    "version": 3
   },
   "file_extension": ".py",
   "mimetype": "text/x-python",
   "name": "python",
   "nbconvert_exporter": "python",
   "pygments_lexer": "ipython3",
   "version": "3.10.7"
  },
  "vscode": {
   "interpreter": {
    "hash": "9b7c34d5531639b058af95a71cf1e1102b6cd1cfd58dd34a9cdbaafa6c26a2e2"
   }
  }
 },
 "nbformat": 4,
 "nbformat_minor": 5
}

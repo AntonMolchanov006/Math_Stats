{
 "cells": [
  {
   "cell_type": "markdown",
   "id": "76147b43",
   "metadata": {},
   "source": [
    "### Урок 9. Линейная регрессия Логистическая регрессия"
   ]
  },
  {
   "cell_type": "markdown",
   "id": "ded27c9e",
   "metadata": {},
   "source": [
    "#### Задача 1.\n",
    "\n",
    "Даны значения величины заработной платы заемщиков банка (zp) и значения их поведенческого кредитного скоринга (ks): \n",
    "\n",
    "zp = [35, 45, 190, 200, 40, 70, 54, 150, 120, 110] \n",
    "\n",
    "ks = [401, 574, 874, 919, 459, 739, 653, 902, 746, 832]. \n",
    "\n",
    "Используя математические операции, посчитать коэффициенты линейной регрессии, приняв за X заработную плату (то есть, zp - признак), а за y - значения скорингового балла (то есть, ks - целевая переменная). Произвести расчет как с использованием intercept, так и без."
   ]
  },
  {
   "cell_type": "code",
   "execution_count": 3,
   "id": "d6b3905a",
   "metadata": {},
   "outputs": [],
   "source": [
    "import scipy.stats as stats\n",
    "import numpy as np"
   ]
  },
  {
   "cell_type": "code",
   "execution_count": 4,
   "id": "66e94953",
   "metadata": {},
   "outputs": [],
   "source": [
    "zp = np.array([35, 45, 190, 200, 40, 70, 54, 150, 120, 110])\n",
    "ks = np.array([401, 574, 874, 919, 459, 739, 653, 902, 746, 832])\n",
    "n = len(zp)\n"
   ]
  },
  {
   "cell_type": "markdown",
   "id": "f90cbeae",
   "metadata": {},
   "source": [
    "Находим Коэффициент $b_1$ по формуле:\n",
    "$$b_1 = \\frac{n(\\Sigma_{i=1}^nx_i)(\\Sigma_{i=1}^ny_i)}{n\\Sigma_{i=1}^nx_i^2 - (\\Sigma_{i=1}^nx_i)^2}$$.\n",
    "\n",
    "Затем найдем интерсепт по формуле:\n",
    "$$b_0 = \\overline{y} - b\\overline{x}$$"
   ]
  },
  {
   "cell_type": "code",
   "execution_count": 5,
   "id": "d2c7227f",
   "metadata": {},
   "outputs": [
    {
     "data": {
      "text/plain": [
       "2.6205388824027653"
      ]
     },
     "execution_count": 5,
     "metadata": {},
     "output_type": "execute_result"
    }
   ],
   "source": [
    "b1 = (n*np.sum(zp*ks) - np.sum(zp)*np.sum(ks))/(n*np.sum(zp**2) - (np.sum(zp))**2)\n",
    "b1"
   ]
  },
  {
   "cell_type": "code",
   "execution_count": 6,
   "id": "6eb00155",
   "metadata": {},
   "outputs": [
    {
     "data": {
      "text/plain": [
       "444.17735732435955"
      ]
     },
     "execution_count": 6,
     "metadata": {},
     "output_type": "execute_result"
    }
   ],
   "source": [
    "b0 = np.mean(ks) - b1*np.mean(zp)\n",
    "b0"
   ]
  },
  {
   "cell_type": "markdown",
   "id": "22f9fd03",
   "metadata": {},
   "source": [
    "#### Задача 2.\n",
    "\n",
    "\n",
    "Посчитать коэффициент линейной регрессии при заработной плате (zp), используя градиентный спуск (без intercept)."
   ]
  },
  {
   "cell_type": "code",
   "execution_count": 7,
   "id": "400f88bd",
   "metadata": {},
   "outputs": [],
   "source": [
    "def mse_(B1: float, y: list, x: list, n: int):\n",
    "    return np.sum((B1*x-y)**2/n)"
   ]
  },
  {
   "cell_type": "code",
   "execution_count": 8,
   "id": "6348fcab",
   "metadata": {},
   "outputs": [],
   "source": [
    "alpha = 1e-6\n",
    "B1 = 0.1\n",
    "n = len(zp)"
   ]
  },
  {
   "cell_type": "code",
   "execution_count": 9,
   "id": "e3f9ee94",
   "metadata": {},
   "outputs": [
    {
     "name": "stdout",
     "output_type": "stream",
     "text": [
      "Iteration = 0, B1 = 0.25952808, mse = 493237.7212546963\n",
      "Iteration = 100, B1 = 5.54537842245223, mse = 58151.31823171113\n",
      "Iteration = 200, B1 = 5.868748638669329, mse = 56522.97550129376\n",
      "Iteration = 300, B1 = 5.888531320728348, mse = 56516.88130936021\n",
      "Iteration = 400, B1 = 5.8897415574471985, mse = 56516.85850140054\n",
      "Iteration = 500, B1 = 5.889815595583751, mse = 56516.858416040086\n",
      "Iteration = 600, B1 = 5.889820124983314, mse = 56516.85841572061\n",
      "Iteration = 700, B1 = 5.889820402076462, mse = 56516.85841571942\n",
      "Iteration = 800, B1 = 5.88982041902807, mse = 56516.858415719405\n",
      "Iteration = 900, B1 = 5.889820420065112, mse = 56516.858415719405\n",
      "Iteration = 1000, B1 = 5.8898204201285544, mse = 56516.858415719405\n",
      "Iteration = 1100, B1 = 5.889820420132437, mse = 56516.8584157194\n"
     ]
    }
   ],
   "source": [
    "for i in range(1200):\n",
    "    B1 -= alpha*(2/n) * np.sum((B1*zp-ks)*zp)\n",
    "    if i % 100 == 0:\n",
    "        print('Iteration = {i}, B1 = {B1}, mse = {mse}'.format(i= i, B1= B1, mse= mse_(B1,ks,zp,n)))"
   ]
  },
  {
   "cell_type": "code",
   "execution_count": 10,
   "id": "cbbcc72a",
   "metadata": {},
   "outputs": [
    {
     "data": {
      "text/plain": [
       "56516.858421464"
      ]
     },
     "execution_count": 10,
     "metadata": {},
     "output_type": "execute_result"
    }
   ],
   "source": [
    "mse_(5.8898,ks,zp,n)"
   ]
  },
  {
   "cell_type": "markdown",
   "id": "96480e23",
   "metadata": {},
   "source": [
    "$$y = 5.89*x$$"
   ]
  },
  {
   "cell_type": "markdown",
   "id": "70aa8779",
   "metadata": {},
   "source": [
    "#### Задача 3*\n",
    "\n",
    "Произвести вычисления как в пункте 2, но с вычислением intercept. Учесть, что изменение коэффициентов должно производиться на каждом шаге одновременно (то есть изменение одного коэффициента не должно влиять на изменение другого во время одной итерации).\n"
   ]
  },
  {
   "cell_type": "code",
   "execution_count": 11,
   "id": "dbec2983",
   "metadata": {},
   "outputs": [],
   "source": [
    "def mse_intercept(B0: float, B1: float, y: list, x: list, n: int):\n",
    "    return np.sum((B0+B1*x-y)**2/n)\n"
   ]
  },
  {
   "cell_type": "code",
   "execution_count": 18,
   "id": "9b749f3b",
   "metadata": {},
   "outputs": [],
   "source": [
    "alpha = 1e-5\n",
    "B0 = 0.1\n",
    "B1 = 0.1\n",
    "n = len(zp)"
   ]
  },
  {
   "cell_type": "code",
   "execution_count": 22,
   "id": "f4447e86",
   "metadata": {},
   "outputs": [
    {
     "name": "stdout",
     "output_type": "stream",
     "text": [
      "Iteration = 0, B0 = 300.19601772724553, B1 = 3.680305199644469, mse = 11729.046624903258\n",
      "Iteration = 100000, B0 = 357.4837557642, B1 = 3.2586421193285555, mse = 8376.904000734778\n",
      "Iteration = 200000, B0 = 391.9776724728217, B1 = 3.004751641716477, mse = 7161.602149476583\n",
      "Iteration = 300000, B0 = 412.7470435576754, B1 = 2.8518798878655165, mse = 6721.000792295972\n",
      "Iteration = 400000, B0 = 425.25263342454974, B1 = 2.759833217406435, mse = 6561.263064793674\n",
      "Iteration = 500000, B0 = 432.78246074958884, B1 = 2.704410359166251, mse = 6503.350983562475\n",
      "Iteration = 600000, B0 = 437.3162972297929, B1 = 2.6710393181476952, mse = 6482.355260103964\n",
      "Iteration = 700000, B0 = 440.0461969129939, B1 = 2.6509460495213544, mse = 6474.743369904665\n",
      "Iteration = 800000, B0 = 441.6899157177899, B1 = 2.6388475523882264, mse = 6471.983718753749\n",
      "Iteration = 900000, B0 = 442.67962663128355, B1 = 2.631562842488582, mse = 6470.983221600573\n",
      "Iteration = 1000000, B0 = 443.2755483238766, B1 = 2.627176595358983, mse = 6470.620496568034\n",
      "Iteration = 1100000, B0 = 443.6343628613997, B1 = 2.624535561721793, mse = 6470.488992496466\n",
      "Iteration = 1200000, B0 = 443.85041116763523, B1 = 2.6229453506674556, mse = 6470.441316380158\n",
      "Iteration = 1300000, B0 = 443.9804975095982, B1 = 2.6219878576761326, mse = 6470.42403165248\n",
      "Iteration = 1400000, B0 = 444.0588246978963, B1 = 2.62141133493982, mse = 6470.417765164471\n",
      "Iteration = 1500000, B0 = 444.1059868237213, B1 = 2.621064200842174, mse = 6470.415493281877\n",
      "Iteration = 1600000, B0 = 444.1343839379274, B1 = 2.620855185526532, mse = 6470.4146696226735\n",
      "Iteration = 1700000, B0 = 444.15148232103655, B1 = 2.620729333867219, mse = 6470.414371009325\n",
      "Iteration = 1800000, B0 = 444.16177754691284, B1 = 2.620653556452988, mse = 6470.414262748605\n",
      "Iteration = 1900000, B0 = 444.16797647666135, B1 = 2.6206079295893354, mse = 6470.414223499246\n"
     ]
    }
   ],
   "source": [
    "for i in range(2000000):\n",
    "    k = B1\n",
    "    b = B0\n",
    "    B1 -= alpha*(2/n) * np.sum((B1*zp+b-ks)*zp)\n",
    "    B0 -= alpha*(2/n) * np.sum(k*zp+B0-ks)\n",
    "    \n",
    "    if i % 100000 == 0:\n",
    "        print('Iteration = {i}, B0 = {B0}, B1 = {B1}, mse = {mse}'.format(i= i,B0= B0, \n",
    "                                                                          B1= B1, mse= mse_intercept(B0,B1,ks,zp,n)))"
   ]
  },
  {
   "cell_type": "markdown",
   "id": "bf571ab2",
   "metadata": {},
   "source": [
    "__Ответ:__ \n",
    "$$y = 444.17 + 2.62*x$$"
   ]
  },
  {
   "cell_type": "code",
   "execution_count": null,
   "id": "5a01af7f",
   "metadata": {},
   "outputs": [],
   "source": []
  }
 ],
 "metadata": {
  "kernelspec": {
   "display_name": "Python 3 (ipykernel)",
   "language": "python",
   "name": "python3"
  },
  "language_info": {
   "codemirror_mode": {
    "name": "ipython",
    "version": 3
   },
   "file_extension": ".py",
   "mimetype": "text/x-python",
   "name": "python",
   "nbconvert_exporter": "python",
   "pygments_lexer": "ipython3",
   "version": "3.9.12"
  }
 },
 "nbformat": 4,
 "nbformat_minor": 5
}

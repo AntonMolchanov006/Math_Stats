{
 "cells": [
  {
   "cell_type": "code",
   "execution_count": null,
   "id": "126c771a",
   "metadata": {},
   "outputs": [],
   "source": [
    "\n"
   ]
  },
  {
   "cell_type": "markdown",
   "id": "99191980",
   "metadata": {},
   "source": [
    "### Задача 1.\n",
    "Случайная непрерывная величина A имеет равномерное распределение на промежутке (200, 800].\n",
    "Найдите ее среднее значение(__500__) и дисперсию."
   ]
  },
  {
   "cell_type": "code",
   "execution_count": 5,
   "id": "bb2469a2",
   "metadata": {},
   "outputs": [],
   "source": [
    "import numpy as np"
   ]
  },
  {
   "cell_type": "code",
   "execution_count": 3,
   "id": "b7a7864b",
   "metadata": {},
   "outputs": [
    {
     "data": {
      "text/plain": [
       "500.0"
      ]
     },
     "execution_count": 3,
     "metadata": {},
     "output_type": "execute_result"
    }
   ],
   "source": [
    "A = [200,800]\n",
    "A_mean = (200+800)/2\n",
    "A_mean"
   ]
  },
  {
   "cell_type": "code",
   "execution_count": 4,
   "id": "ea065653",
   "metadata": {},
   "outputs": [
    {
     "data": {
      "text/plain": [
       "30000.0"
      ]
     },
     "execution_count": 4,
     "metadata": {},
     "output_type": "execute_result"
    }
   ],
   "source": [
    "D_A = ((800-200)**2)/12\n",
    "D_A"
   ]
  },
  {
   "cell_type": "markdown",
   "id": "2f2cc012",
   "metadata": {},
   "source": [
    "### Задача 2.\n",
    "\n",
    "О случайной непрерывной равномерно распределенной величине B известно, что ее дисперсия равна 0.2.\n",
    "Можно ли найти правую границу величины B (__1.05__) и ее среднее значение (__0.775__) зная, что левая граница равна 0.5?\n",
    "Если да, найдите ее."
   ]
  },
  {
   "cell_type": "markdown",
   "id": "76234b9f",
   "metadata": {},
   "source": [
    "$$D=\\frac{(b-a)^2}{12}$$\n",
    "\n",
    "$$0.2 = \\frac{(x-0.5)^2}{12}$$\n",
    "\n",
    "$$0.2=\\frac{x^2-x+0.25}{12}$$\n",
    "\n",
    "$$x^2-x-2.15=0$$\n",
    "\n",
    "$$d=b^2-4*a*c = 9.6$$\n",
    "\n",
    "$$x = \\frac{-b^+_-\\sqrt(D)}{2*a}$$\n",
    "\n",
    "$$x = 1.05$$"
   ]
  },
  {
   "cell_type": "code",
   "execution_count": 7,
   "id": "bff43c20",
   "metadata": {},
   "outputs": [
    {
     "data": {
      "text/plain": [
       "9.6"
      ]
     },
     "execution_count": 7,
     "metadata": {},
     "output_type": "execute_result"
    }
   ],
   "source": [
    "d = (-1)**2-4*1*(-2.15)\n",
    "d"
   ]
  },
  {
   "cell_type": "code",
   "execution_count": 9,
   "id": "17e7189f",
   "metadata": {},
   "outputs": [
    {
     "data": {
      "text/plain": [
       "1.0491933384829668"
      ]
     },
     "execution_count": 9,
     "metadata": {},
     "output_type": "execute_result"
    }
   ],
   "source": [
    "x_1 = ((-1)+np.sqrt(9.6))/2\n",
    "x_1"
   ]
  },
  {
   "cell_type": "code",
   "execution_count": 10,
   "id": "6b36bc6c",
   "metadata": {},
   "outputs": [
    {
     "data": {
      "text/plain": [
       "-2.049193338482967"
      ]
     },
     "execution_count": 10,
     "metadata": {},
     "output_type": "execute_result"
    }
   ],
   "source": [
    "x_2 = ((-1)-np.sqrt(9.6))/2\n",
    "x_2"
   ]
  },
  {
   "cell_type": "code",
   "execution_count": 11,
   "id": "469b1d36",
   "metadata": {},
   "outputs": [
    {
     "data": {
      "text/plain": [
       "0.775"
      ]
     },
     "execution_count": 11,
     "metadata": {},
     "output_type": "execute_result"
    }
   ],
   "source": [
    "M_B = (0.5+1.05)/2\n",
    "M_B"
   ]
  },
  {
   "cell_type": "markdown",
   "id": "1d43f509",
   "metadata": {},
   "source": [
    "### Задача 3.\n",
    "Непрерывная случайная величина X распределена нормально и задана плотностью распределения\n",
    "\n",
    "$$f(x) = \\frac{1}{4*\\sqrt{2*\\pi}}*e^{\\frac{-(x+2)^2}{32}}$$\n",
    "\n",
    "Найдите:\n",
    "\n",
    "а). M(X) = __-2__\n",
    "\n",
    "б). D(X) = __16__\n",
    "\n",
    "в). std(X) (среднее квадратичное отклонение) = __4__"
   ]
  },
  {
   "cell_type": "markdown",
   "id": "b099d74c",
   "metadata": {},
   "source": [
    "### Задача 4.\n",
    "\n",
    "Рост взрослого населения города X имеет нормальное распределение.\n",
    "Причем, средний рост равен 174 см, а среднее квадратичное отклонение равно 8 см.\n",
    "Какова вероятность того, что случайным образом выбранный взрослый человек имеет рост:\n",
    "\n",
    "а). больше 182 см (__0.1587__)\n",
    "\n",
    "б). больше 190 см (__0.0228__)\n",
    "\n",
    "в). от 166 см до 190 см (__0.8185__)\n",
    "\n",
    "г). от 166 см до 182 см (__0.6826__)\n",
    "\n",
    "д). от 158 см до 190 см (__0.9544__)\n",
    "\n",
    "е). не выше 150 см или не ниже 190 см (__0.0241__)\n",
    "\n",
    "ё). не выше 150 см или не ниже 198 см (__0.0027__)\n",
    "\n",
    "ж). ниже 166 см. (__0.1587__)"
   ]
  },
  {
   "cell_type": "markdown",
   "id": "1e10aea8",
   "metadata": {},
   "source": [
    "$$ Z = \\frac{x-\\mu}{\\sigma}$$"
   ]
  },
  {
   "cell_type": "code",
   "execution_count": 13,
   "id": "d9fd7fd1",
   "metadata": {},
   "outputs": [],
   "source": [
    "mu = 174\n",
    "sigma = 8\n"
   ]
  },
  {
   "cell_type": "code",
   "execution_count": 15,
   "id": "6b95a1dc",
   "metadata": {},
   "outputs": [
    {
     "data": {
      "text/plain": [
       "1.0"
      ]
     },
     "execution_count": 15,
     "metadata": {},
     "output_type": "execute_result"
    }
   ],
   "source": [
    "z_a = (182-mu)/sigma\n",
    "z_a"
   ]
  },
  {
   "cell_type": "code",
   "execution_count": 20,
   "id": "bda97165",
   "metadata": {},
   "outputs": [
    {
     "data": {
      "text/plain": [
       "0.15869999999999995"
      ]
     },
     "execution_count": 20,
     "metadata": {},
     "output_type": "execute_result"
    }
   ],
   "source": [
    "1-0.8413"
   ]
  },
  {
   "cell_type": "code",
   "execution_count": 16,
   "id": "cda0321c",
   "metadata": {},
   "outputs": [
    {
     "data": {
      "text/plain": [
       "2.0"
      ]
     },
     "execution_count": 16,
     "metadata": {},
     "output_type": "execute_result"
    }
   ],
   "source": [
    "z_b = (190-mu)/sigma\n",
    "z_b"
   ]
  },
  {
   "cell_type": "code",
   "execution_count": 19,
   "id": "cf789396",
   "metadata": {},
   "outputs": [
    {
     "data": {
      "text/plain": [
       "0.022800000000000042"
      ]
     },
     "execution_count": 19,
     "metadata": {},
     "output_type": "execute_result"
    }
   ],
   "source": [
    "1-0.9772"
   ]
  },
  {
   "cell_type": "code",
   "execution_count": 17,
   "id": "f306bea0",
   "metadata": {},
   "outputs": [
    {
     "data": {
      "text/plain": [
       "-1.0"
      ]
     },
     "execution_count": 17,
     "metadata": {},
     "output_type": "execute_result"
    }
   ],
   "source": [
    "z_v1 = (166-mu)/sigma\n",
    "z_v1"
   ]
  },
  {
   "cell_type": "code",
   "execution_count": 21,
   "id": "44de2d0e",
   "metadata": {},
   "outputs": [
    {
     "data": {
      "text/plain": [
       "0.8185"
      ]
     },
     "execution_count": 21,
     "metadata": {},
     "output_type": "execute_result"
    }
   ],
   "source": [
    "0.9772-0.1587"
   ]
  },
  {
   "cell_type": "code",
   "execution_count": 18,
   "id": "5da312f5",
   "metadata": {},
   "outputs": [
    {
     "data": {
      "text/plain": [
       "2.0"
      ]
     },
     "execution_count": 18,
     "metadata": {},
     "output_type": "execute_result"
    }
   ],
   "source": [
    "z_g = z_a-z_v1\n",
    "z_g"
   ]
  },
  {
   "cell_type": "code",
   "execution_count": 22,
   "id": "dea9aec1",
   "metadata": {},
   "outputs": [
    {
     "data": {
      "text/plain": [
       "0.6826000000000001"
      ]
     },
     "execution_count": 22,
     "metadata": {},
     "output_type": "execute_result"
    }
   ],
   "source": [
    "0.8413-0.1587"
   ]
  },
  {
   "cell_type": "code",
   "execution_count": 24,
   "id": "cc5b88b1",
   "metadata": {},
   "outputs": [
    {
     "data": {
      "text/plain": [
       "-2.0"
      ]
     },
     "execution_count": 24,
     "metadata": {},
     "output_type": "execute_result"
    }
   ],
   "source": [
    "z_d = (158-mu)/sigma\n",
    "z_d"
   ]
  },
  {
   "cell_type": "code",
   "execution_count": 25,
   "id": "fd9bc3d9",
   "metadata": {},
   "outputs": [
    {
     "data": {
      "text/plain": [
       "0.9543999999999999"
      ]
     },
     "execution_count": 25,
     "metadata": {},
     "output_type": "execute_result"
    }
   ],
   "source": [
    "0.9772-0.0228"
   ]
  },
  {
   "cell_type": "code",
   "execution_count": 31,
   "id": "0a61603b",
   "metadata": {},
   "outputs": [
    {
     "data": {
      "text/plain": [
       "-3.0"
      ]
     },
     "execution_count": 31,
     "metadata": {},
     "output_type": "execute_result"
    }
   ],
   "source": [
    "z_e1 = (150-mu)/sigma\n",
    "z_e1"
   ]
  },
  {
   "cell_type": "code",
   "execution_count": 28,
   "id": "cedf1ad2",
   "metadata": {},
   "outputs": [
    {
     "data": {
      "text/plain": [
       "0.0241"
      ]
     },
     "execution_count": 28,
     "metadata": {},
     "output_type": "execute_result"
    }
   ],
   "source": [
    "z_e=0.0013+0.0228\n",
    "z_e"
   ]
  },
  {
   "cell_type": "code",
   "execution_count": 32,
   "id": "72078efa",
   "metadata": {},
   "outputs": [
    {
     "data": {
      "text/plain": [
       "3.0"
      ]
     },
     "execution_count": 32,
     "metadata": {},
     "output_type": "execute_result"
    }
   ],
   "source": [
    "z_yo1 = (198-mu)/sigma\n",
    "z_yo1"
   ]
  },
  {
   "cell_type": "code",
   "execution_count": 34,
   "id": "6ba1c96d",
   "metadata": {},
   "outputs": [
    {
     "data": {
      "text/plain": [
       "0.0026999999999999568"
      ]
     },
     "execution_count": 34,
     "metadata": {},
     "output_type": "execute_result"
    }
   ],
   "source": [
    "z_yo = 1-0.9986 +0.0013\n",
    "z_yo"
   ]
  },
  {
   "cell_type": "markdown",
   "id": "8f0c3dfc",
   "metadata": {},
   "source": [
    "### Задача 5.\n",
    "\n",
    "На сколько сигм (средних квадратичных отклонений) отклоняется рост человека, равный 190 см, от\n",
    "математического ожидания роста в популяции, в которой M(X) = 178 см и D(X) = 25 кв.см?\n",
    "\n",
    "Ответ: 2.4 сигмы"
   ]
  },
  {
   "cell_type": "code",
   "execution_count": 35,
   "id": "959916db",
   "metadata": {},
   "outputs": [
    {
     "data": {
      "text/plain": [
       "2.4"
      ]
     },
     "execution_count": 35,
     "metadata": {},
     "output_type": "execute_result"
    }
   ],
   "source": [
    "sigma_delta = (190-178)/np.sqrt(25)\n",
    "sigma_delta"
   ]
  },
  {
   "cell_type": "code",
   "execution_count": null,
   "id": "4557ca63",
   "metadata": {},
   "outputs": [],
   "source": []
  }
 ],
 "metadata": {
  "kernelspec": {
   "display_name": "Python 3 (ipykernel)",
   "language": "python",
   "name": "python3"
  },
  "language_info": {
   "codemirror_mode": {
    "name": "ipython",
    "version": 3
   },
   "file_extension": ".py",
   "mimetype": "text/x-python",
   "name": "python",
   "nbconvert_exporter": "python",
   "pygments_lexer": "ipython3",
   "version": "3.9.12"
  }
 },
 "nbformat": 4,
 "nbformat_minor": 5
}
